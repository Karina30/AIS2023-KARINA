{
 "cells": [
  {
   "cell_type": "markdown",
   "id": "0746c9a2",
   "metadata": {},
   "source": [
    "# TUPLE"
   ]
  },
  {
   "cell_type": "markdown",
   "id": "446ac1a2",
   "metadata": {},
   "source": [
    "# 1] COUNT()"
   ]
  },
  {
   "cell_type": "code",
   "execution_count": null,
   "id": "ec966eaf",
   "metadata": {},
   "outputs": [],
   "source": [
    "Tuple = ('karina','mujawar')\n",
    "print(Tuple.count('karina'))"
   ]
  },
  {
   "cell_type": "code",
   "execution_count": 4,
   "id": "a38052ee",
   "metadata": {},
   "outputs": [
    {
     "name": "stdout",
     "output_type": "stream",
     "text": [
      "3\n"
     ]
    }
   ],
   "source": [
    "Tuple = ('karina','mujawar','22','22','22')\n",
    "print(Tuple.count('22'))"
   ]
  },
  {
   "cell_type": "code",
   "execution_count": 5,
   "id": "6f9ca8a7",
   "metadata": {},
   "outputs": [
    {
     "name": "stdout",
     "output_type": "stream",
     "text": [
      "3\n"
     ]
    }
   ],
   "source": [
    "Tuple = ('karina','mujawar','karina','karina')\n",
    "print(Tuple.count('karina'))"
   ]
  },
  {
   "cell_type": "markdown",
   "id": "323aefc8",
   "metadata": {},
   "source": [
    "# 2] INDEX()"
   ]
  },
  {
   "cell_type": "code",
   "execution_count": 10,
   "id": "2490647d",
   "metadata": {},
   "outputs": [
    {
     "name": "stdout",
     "output_type": "stream",
     "text": [
      "0\n"
     ]
    }
   ],
   "source": [
    "tuple = ('karina','mujawar')\n",
    "print(tuple.index('karina'))"
   ]
  },
  {
   "cell_type": "code",
   "execution_count": 11,
   "id": "873def75",
   "metadata": {},
   "outputs": [
    {
     "name": "stdout",
     "output_type": "stream",
     "text": [
      "1\n"
     ]
    }
   ],
   "source": [
    "tuple = ('karina','mujawar')\n",
    "print(tuple.index('mujawar'))"
   ]
  },
  {
   "cell_type": "code",
   "execution_count": 12,
   "id": "db0bc204",
   "metadata": {},
   "outputs": [
    {
     "name": "stdout",
     "output_type": "stream",
     "text": [
      "2\n"
     ]
    }
   ],
   "source": [
    "tuple = (1,2,3,2,1,3,34,21,2,3,3,12,3,)\n",
    "print(tuple.index(3))"
   ]
  },
  {
   "cell_type": "code",
   "execution_count": null,
   "id": "a1738c95",
   "metadata": {},
   "outputs": [],
   "source": []
  }
 ],
 "metadata": {
  "kernelspec": {
   "display_name": "Python 3 (ipykernel)",
   "language": "python",
   "name": "python3"
  },
  "language_info": {
   "codemirror_mode": {
    "name": "ipython",
    "version": 3
   },
   "file_extension": ".py",
   "mimetype": "text/x-python",
   "name": "python",
   "nbconvert_exporter": "python",
   "pygments_lexer": "ipython3",
   "version": "3.9.12"
  }
 },
 "nbformat": 4,
 "nbformat_minor": 5
}
