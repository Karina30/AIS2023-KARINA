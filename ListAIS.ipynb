{
 "cells": [
  {
   "cell_type": "markdown",
   "id": "d70a0b55",
   "metadata": {},
   "source": [
    "# LIST FUNCTIONS"
   ]
  },
  {
   "cell_type": "markdown",
   "id": "1fe34de3",
   "metadata": {},
   "source": [
    "# 1] APPEND() "
   ]
  },
  {
   "cell_type": "code",
   "execution_count": 4,
   "id": "d7b977fc",
   "metadata": {},
   "outputs": [
    {
     "name": "stdout",
     "output_type": "stream",
     "text": [
      "['Karina', '22', 'Karad']\n",
      "['Karina', '22', 'Karad', 'MCA']\n"
     ]
    }
   ],
   "source": [
    "#Append\n",
    "K = ['Karina','22','Karad']\n",
    "print(K)\n",
    "K.append('MCA')\n",
    "print(K)"
   ]
  },
  {
   "cell_type": "code",
   "execution_count": 5,
   "id": "8b3371aa",
   "metadata": {},
   "outputs": [
    {
     "name": "stdout",
     "output_type": "stream",
     "text": [
      "['red', 'green', 'blue', [1, 2, 3]]\n"
     ]
    }
   ],
   "source": [
    "# Append list to a list\n",
    "K = ['red','green','blue']\n",
    "K.append([1,2,3])\n",
    "print(K)"
   ]
  },
  {
   "cell_type": "code",
   "execution_count": 7,
   "id": "e3496bb4",
   "metadata": {},
   "outputs": [
    {
     "name": "stdout",
     "output_type": "stream",
     "text": [
      "['green', 'black', 'silver']\n",
      "['green', 'black', 'silver', (33, 44, 55)]\n"
     ]
    }
   ],
   "source": [
    "# Append tuple to a list\n",
    "K = ['green','black','silver']\n",
    "print(K)\n",
    "K.append((33,44,55))\n",
    "print(K)"
   ]
  },
  {
   "cell_type": "markdown",
   "id": "94b875e5",
   "metadata": {},
   "source": [
    "# 2] INSERT"
   ]
  },
  {
   "cell_type": "code",
   "execution_count": 17,
   "id": "a6fc2626",
   "metadata": {},
   "outputs": [
    {
     "name": "stdout",
     "output_type": "stream",
     "text": [
      "['green', 'blue', 'red']\n",
      "['green', 'silver', 'blue', 'red']\n"
     ]
    }
   ],
   "source": [
    "K=['green','blue','red']\n",
    "print(K)\n",
    "K.insert(1,'silver')\n",
    "print(K)"
   ]
  },
  {
   "cell_type": "code",
   "execution_count": 18,
   "id": "573c435b",
   "metadata": {},
   "outputs": [
    {
     "name": "stdout",
     "output_type": "stream",
     "text": [
      "['1', '2', '3', '4']\n"
     ]
    }
   ],
   "source": [
    "M = ['1', '2', '4']\n",
    "M.insert(2,'3')\n",
    "print(M)"
   ]
  },
  {
   "cell_type": "code",
   "execution_count": 19,
   "id": "437df4d0",
   "metadata": {},
   "outputs": [
    {
     "name": "stdout",
     "output_type": "stream",
     "text": [
      "['Karina', 'Arif', 'Mujawar']\n"
     ]
    }
   ],
   "source": [
    "M = ['Karina', 'Mujawar']\n",
    "M.insert(1,'Arif')\n",
    "print(M)"
   ]
  },
  {
   "cell_type": "markdown",
   "id": "a83d556a",
   "metadata": {},
   "source": [
    "# 3] EXTEND"
   ]
  },
  {
   "cell_type": "code",
   "execution_count": 20,
   "id": "729d3ce9",
   "metadata": {},
   "outputs": [
    {
     "name": "stdout",
     "output_type": "stream",
     "text": [
      "['Karina', 'K', 'a', 'r', 'i', 'n', 'a']\n"
     ]
    }
   ],
   "source": [
    "K = ['Karina']\n",
    "K.extend('Karina')\n",
    "print(K)"
   ]
  },
  {
   "cell_type": "code",
   "execution_count": 22,
   "id": "b0bb9465",
   "metadata": {},
   "outputs": [
    {
     "name": "stdout",
     "output_type": "stream",
     "text": [
      "[1, 2, 3, 'Karina', '4', '5', '6']\n"
     ]
    }
   ],
   "source": [
    "M = [1,2,3,'Karina']\n",
    "M.extend('456')\n",
    "print(M)"
   ]
  },
  {
   "cell_type": "markdown",
   "id": "49cb221c",
   "metadata": {},
   "source": [
    "# 4] REMOVE"
   ]
  },
  {
   "cell_type": "code",
   "execution_count": 23,
   "id": "89c2afaa",
   "metadata": {},
   "outputs": [
    {
     "name": "stdout",
     "output_type": "stream",
     "text": [
      "['karina', 45, 'True']\n"
     ]
    }
   ],
   "source": [
    "z = ['karina',45,3,'True']\n",
    "z.remove(3)\n",
    "print(z)"
   ]
  },
  {
   "cell_type": "code",
   "execution_count": 27,
   "id": "bcfa8b08",
   "metadata": {},
   "outputs": [
    {
     "name": "stdout",
     "output_type": "stream",
     "text": [
      "['Karina', 'Mujawar']\n"
     ]
    }
   ],
   "source": [
    "z = ['Karina', 'Arif', 'Mujawar']\n",
    "z.remove('Arif')\n",
    "print(z)"
   ]
  },
  {
   "cell_type": "markdown",
   "id": "d776ab15",
   "metadata": {},
   "source": [
    "# 5] POP"
   ]
  },
  {
   "cell_type": "code",
   "execution_count": 28,
   "id": "dddd7884",
   "metadata": {},
   "outputs": [
    {
     "name": "stdout",
     "output_type": "stream",
     "text": [
      "['karina', 3, 'Mujawar']\n"
     ]
    }
   ],
   "source": [
    "b = ['karina',3,'Mujawar', 9]\n",
    "b.pop(3)\n",
    "print(b)"
   ]
  },
  {
   "cell_type": "code",
   "execution_count": 29,
   "id": "86b3658b",
   "metadata": {
    "scrolled": true
   },
   "outputs": [
    {
     "name": "stdout",
     "output_type": "stream",
     "text": [
      "['karina', 3, 'Mujawar']\n"
     ]
    }
   ],
   "source": [
    "b = ['karina',3,'Mujawar', 9]\n",
    "b.pop()\n",
    "print(b)"
   ]
  },
  {
   "cell_type": "markdown",
   "id": "db6565ec",
   "metadata": {},
   "source": [
    "# 6] CLEAR"
   ]
  },
  {
   "cell_type": "code",
   "execution_count": 42,
   "id": "27fc4599",
   "metadata": {},
   "outputs": [],
   "source": [
    "b = ['karina',3,'Mujawar', 9]\n",
    "b.clear()"
   ]
  },
  {
   "cell_type": "code",
   "execution_count": 43,
   "id": "05d96ce2",
   "metadata": {},
   "outputs": [
    {
     "data": {
      "text/plain": [
       "list"
      ]
     },
     "execution_count": 43,
     "metadata": {},
     "output_type": "execute_result"
    }
   ],
   "source": [
    "type(b)"
   ]
  },
  {
   "cell_type": "markdown",
   "id": "084f732c",
   "metadata": {},
   "source": [
    "# 7] COPY"
   ]
  },
  {
   "cell_type": "code",
   "execution_count": 57,
   "id": "3c07b2f0",
   "metadata": {},
   "outputs": [
    {
     "name": "stdout",
     "output_type": "stream",
     "text": [
      "['karina', 'Mujawar', 9]\n"
     ]
    }
   ],
   "source": [
    "old_list = ['karina','Mujawar', 9]\n",
    "new_list = old_list.copy()\n",
    "print(new_list)"
   ]
  },
  {
   "cell_type": "code",
   "execution_count": 53,
   "id": "52111f05",
   "metadata": {},
   "outputs": [
    {
     "data": {
      "text/plain": [
       "1214086528320"
      ]
     },
     "execution_count": 53,
     "metadata": {},
     "output_type": "execute_result"
    }
   ],
   "source": [
    "id(new_list)"
   ]
  },
  {
   "cell_type": "code",
   "execution_count": 52,
   "id": "c6d1f891",
   "metadata": {},
   "outputs": [
    {
     "data": {
      "text/plain": [
       "1214086286464"
      ]
     },
     "execution_count": 52,
     "metadata": {},
     "output_type": "execute_result"
    }
   ],
   "source": [
    "id(old_list)"
   ]
  },
  {
   "cell_type": "code",
   "execution_count": 55,
   "id": "083689ac",
   "metadata": {},
   "outputs": [
    {
     "name": "stdout",
     "output_type": "stream",
     "text": [
      "[1, 3, 5, 7]\n"
     ]
    }
   ],
   "source": [
    "List1 = [1,3,5,7]\n",
    "List2 = List1.copy()\n",
    "print(List2)"
   ]
  },
  {
   "cell_type": "code",
   "execution_count": 58,
   "id": "89c98b2c",
   "metadata": {},
   "outputs": [
    {
     "data": {
      "text/plain": [
       "1214087838656"
      ]
     },
     "execution_count": 58,
     "metadata": {},
     "output_type": "execute_result"
    }
   ],
   "source": [
    "id(List1)"
   ]
  },
  {
   "cell_type": "code",
   "execution_count": 59,
   "id": "7ddcdc67",
   "metadata": {},
   "outputs": [
    {
     "data": {
      "text/plain": [
       "1214087542336"
      ]
     },
     "execution_count": 59,
     "metadata": {},
     "output_type": "execute_result"
    }
   ],
   "source": [
    "id(List2)"
   ]
  },
  {
   "cell_type": "markdown",
   "id": "7a539c99",
   "metadata": {},
   "source": [
    "# 8] COUNT"
   ]
  },
  {
   "cell_type": "code",
   "execution_count": 68,
   "id": "017e57f2",
   "metadata": {},
   "outputs": [
    {
     "name": "stdout",
     "output_type": "stream",
     "text": [
      "3\n"
     ]
    }
   ],
   "source": [
    "List = ['Apple', 'Banana', 'Mango','Apple','Mango','Mango', 'Banana']\n",
    "List1 = List.count('Mango')\n",
    "print(List1)"
   ]
  },
  {
   "cell_type": "code",
   "execution_count": 69,
   "id": "afbc005d",
   "metadata": {},
   "outputs": [
    {
     "name": "stdout",
     "output_type": "stream",
     "text": [
      "2\n"
     ]
    }
   ],
   "source": [
    "point = [1,2,3,4,5,6,7,8,9,3,1]\n",
    "x = point.count(3)\n",
    "print(x)"
   ]
  },
  {
   "cell_type": "markdown",
   "id": "4a511d82",
   "metadata": {},
   "source": [
    "# 9] INDEX"
   ]
  },
  {
   "cell_type": "code",
   "execution_count": 71,
   "id": "51a26e61",
   "metadata": {},
   "outputs": [
    {
     "data": {
      "text/plain": [
       "2"
      ]
     },
     "execution_count": 71,
     "metadata": {},
     "output_type": "execute_result"
    }
   ],
   "source": [
    "list = [1,2,3,4,5,6]\n",
    "list.index(3)"
   ]
  },
  {
   "cell_type": "code",
   "execution_count": 77,
   "id": "0ce12cd2",
   "metadata": {},
   "outputs": [
    {
     "data": {
      "text/plain": [
       "3"
      ]
     },
     "execution_count": 77,
     "metadata": {},
     "output_type": "execute_result"
    }
   ],
   "source": [
    "list1 = ['karina',22,'gcek','karad']\n",
    "list1.index('karad')"
   ]
  },
  {
   "cell_type": "code",
   "execution_count": 78,
   "id": "6ad2bece",
   "metadata": {},
   "outputs": [
    {
     "data": {
      "text/plain": [
       "1"
      ]
     },
     "execution_count": 78,
     "metadata": {},
     "output_type": "execute_result"
    }
   ],
   "source": [
    "list1 = ['karina',22,'gcek','karad']\n",
    "list1.index(22)"
   ]
  },
  {
   "cell_type": "markdown",
   "id": "4c5ee60e",
   "metadata": {},
   "source": [
    "# 10] REVERSE"
   ]
  },
  {
   "cell_type": "code",
   "execution_count": 90,
   "id": "1acad3ec",
   "metadata": {},
   "outputs": [
    {
     "name": "stdout",
     "output_type": "stream",
     "text": [
      "[5, 4, 3, 2, 1]\n"
     ]
    }
   ],
   "source": [
    "list1 = [1,2,3,4,5]\n",
    "list1.reverse()\n",
    "print(list1)"
   ]
  },
  {
   "cell_type": "code",
   "execution_count": 91,
   "id": "6fb64cc1",
   "metadata": {},
   "outputs": [
    {
     "name": "stdout",
     "output_type": "stream",
     "text": [
      "['mujawar', 'karina']\n"
     ]
    }
   ],
   "source": [
    "old_list = ['karina', 'mujawar']\n",
    "old_list.reverse()\n",
    "print(old_list)"
   ]
  },
  {
   "cell_type": "markdown",
   "id": "da9a4606",
   "metadata": {},
   "source": [
    "# 11] SORT"
   ]
  },
  {
   "cell_type": "code",
   "execution_count": 92,
   "id": "7923bffc",
   "metadata": {},
   "outputs": [
    {
     "name": "stdout",
     "output_type": "stream",
     "text": [
      "[2, 3, 5, 7, 11]\n"
     ]
    }
   ],
   "source": [
    "prime_numbers = [11,3,7,5,2]\n",
    "prime_numbers.sort()\n",
    "print(prime_numbers)"
   ]
  },
  {
   "cell_type": "code",
   "execution_count": 93,
   "id": "4b3a25db",
   "metadata": {},
   "outputs": [
    {
     "name": "stdout",
     "output_type": "stream",
     "text": [
      "['a', 'e', 'i', 'o', 'u']\n"
     ]
    }
   ],
   "source": [
    "vowels =['i','a','e','u','o']\n",
    "vowels.sort()\n",
    "print(vowels)"
   ]
  },
  {
   "cell_type": "code",
   "execution_count": 94,
   "id": "2b4a2622",
   "metadata": {},
   "outputs": [
    {
     "name": "stdout",
     "output_type": "stream",
     "text": [
      "[2, 3, 4, 5, 6, 6, 7, 7, 8]\n"
     ]
    }
   ],
   "source": [
    "descending_order = [2,3,4,5,6,7,6,7,8]\n",
    "descending_order.sort()\n",
    "print(descending_order)"
   ]
  },
  {
   "cell_type": "code",
   "execution_count": 95,
   "id": "2e907ad4",
   "metadata": {},
   "outputs": [
    {
     "name": "stdout",
     "output_type": "stream",
     "text": [
      "[2, 3, 4, 5, 6, 6, 7, 7, 8]\n"
     ]
    }
   ],
   "source": [
    "ascending_order = [2,3,4,5,6,7,6,7,8]\n",
    "ascending_order.sort()\n",
    "print(ascending_order)"
   ]
  }
 ],
 "metadata": {
  "kernelspec": {
   "display_name": "Python 3 (ipykernel)",
   "language": "python",
   "name": "python3"
  },
  "language_info": {
   "codemirror_mode": {
    "name": "ipython",
    "version": 3
   },
   "file_extension": ".py",
   "mimetype": "text/x-python",
   "name": "python",
   "nbconvert_exporter": "python",
   "pygments_lexer": "ipython3",
   "version": "3.9.12"
  }
 },
 "nbformat": 4,
 "nbformat_minor": 5
}
