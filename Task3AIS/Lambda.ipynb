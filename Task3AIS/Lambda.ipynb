{
 "cells": [
  {
   "cell_type": "markdown",
   "id": "07c272f6",
   "metadata": {},
   "source": [
    "# Lambda"
   ]
  },
  {
   "cell_type": "markdown",
   "id": "24be5957",
   "metadata": {},
   "source": [
    "1 Ex"
   ]
  },
  {
   "cell_type": "code",
   "execution_count": 1,
   "id": "b04690d9",
   "metadata": {},
   "outputs": [],
   "source": [
    "doubler = lambda x : x*2"
   ]
  },
  {
   "cell_type": "code",
   "execution_count": 2,
   "id": "dd0d1b71",
   "metadata": {},
   "outputs": [
    {
     "name": "stdout",
     "output_type": "stream",
     "text": [
      "4\n"
     ]
    }
   ],
   "source": [
    "print(doubler(2))"
   ]
  },
  {
   "cell_type": "code",
   "execution_count": 3,
   "id": "5d95bbe0",
   "metadata": {},
   "outputs": [
    {
     "name": "stdout",
     "output_type": "stream",
     "text": [
      "10\n"
     ]
    }
   ],
   "source": [
    "print(doubler(5))"
   ]
  },
  {
   "cell_type": "markdown",
   "id": "02d7665e",
   "metadata": {},
   "source": [
    "2 Ex"
   ]
  },
  {
   "cell_type": "code",
   "execution_count": 5,
   "id": "c5f3d68b",
   "metadata": {},
   "outputs": [
    {
     "name": "stdout",
     "output_type": "stream",
     "text": [
      "10\n"
     ]
    }
   ],
   "source": [
    "#Positional arguments\n",
    "add = lambda x,y,z: x+y+z\n",
    "print(add(2,3,5))"
   ]
  },
  {
   "cell_type": "code",
   "execution_count": 6,
   "id": "c25e6d09",
   "metadata": {},
   "outputs": [
    {
     "name": "stdout",
     "output_type": "stream",
     "text": [
      "9\n"
     ]
    }
   ],
   "source": [
    "#Keyword argument\n",
    "add = lambda x,y,z: x+y+z\n",
    "print(add(2,z=3,y=4))"
   ]
  },
  {
   "cell_type": "code",
   "execution_count": 9,
   "id": "8f37fe5a",
   "metadata": {},
   "outputs": [
    {
     "name": "stdout",
     "output_type": "stream",
     "text": [
      "9\n"
     ]
    }
   ],
   "source": [
    "# *args\n",
    "add = lambda *args : sum(args)\n",
    "print(add(2,3,4))"
   ]
  },
  {
   "cell_type": "code",
   "execution_count": 16,
   "id": "732203a1",
   "metadata": {},
   "outputs": [
    {
     "name": "stdout",
     "output_type": "stream",
     "text": [
      "9\n"
     ]
    }
   ],
   "source": [
    "# **args\n",
    "add = lambda **kwargs : sum(kwargs.values())\n",
    "print(add(x=2,y=3,z=4))"
   ]
  },
  {
   "cell_type": "code",
   "execution_count": null,
   "id": "1f47bed6",
   "metadata": {},
   "outputs": [],
   "source": []
  }
 ],
 "metadata": {
  "kernelspec": {
   "display_name": "Python 3 (ipykernel)",
   "language": "python",
   "name": "python3"
  },
  "language_info": {
   "codemirror_mode": {
    "name": "ipython",
    "version": 3
   },
   "file_extension": ".py",
   "mimetype": "text/x-python",
   "name": "python",
   "nbconvert_exporter": "python",
   "pygments_lexer": "ipython3",
   "version": "3.9.12"
  }
 },
 "nbformat": 4,
 "nbformat_minor": 5
}
