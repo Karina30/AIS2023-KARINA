{
 "cells": [
  {
   "cell_type": "markdown",
   "id": "f8c1a9ae",
   "metadata": {},
   "source": [
    "# Format"
   ]
  },
  {
   "cell_type": "markdown",
   "id": "8b0d6905",
   "metadata": {},
   "source": [
    "1 Ex"
   ]
  },
  {
   "cell_type": "code",
   "execution_count": 1,
   "id": "e774b754",
   "metadata": {},
   "outputs": [
    {
     "name": "stdout",
     "output_type": "stream",
     "text": [
      "101101\n"
     ]
    }
   ],
   "source": [
    "value = 45\n",
    "\n",
    "# format the integer to binary\n",
    "binary_value = format(value, 'b')\n",
    "print(binary_value)"
   ]
  },
  {
   "cell_type": "markdown",
   "id": "e43b671f",
   "metadata": {},
   "source": [
    "2 Ex"
   ]
  },
  {
   "cell_type": "code",
   "execution_count": 2,
   "id": "5f9a40dc",
   "metadata": {},
   "outputs": [
    {
     "name": "stdout",
     "output_type": "stream",
     "text": [
      "123\n",
      "123.456790\n",
      "1100\n"
     ]
    }
   ],
   "source": [
    "# d, f and b are type\n",
    "\n",
    "# integer\n",
    "print(format(123, \"d\"))\n",
    "\n",
    "# float arguments\n",
    "print(format(123.4567898, \"f\"))\n",
    "\n",
    "# binary format\n",
    "print(format(12, \"b\"))"
   ]
  },
  {
   "cell_type": "code",
   "execution_count": null,
   "id": "952f5aba",
   "metadata": {},
   "outputs": [],
   "source": []
  }
 ],
 "metadata": {
  "kernelspec": {
   "display_name": "Python 3 (ipykernel)",
   "language": "python",
   "name": "python3"
  },
  "language_info": {
   "codemirror_mode": {
    "name": "ipython",
    "version": 3
   },
   "file_extension": ".py",
   "mimetype": "text/x-python",
   "name": "python",
   "nbconvert_exporter": "python",
   "pygments_lexer": "ipython3",
   "version": "3.9.12"
  }
 },
 "nbformat": 4,
 "nbformat_minor": 5
}
