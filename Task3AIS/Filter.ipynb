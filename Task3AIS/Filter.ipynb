{
 "cells": [
  {
   "cell_type": "markdown",
   "id": "4a841f7c",
   "metadata": {},
   "source": [
    "# Filter"
   ]
  },
  {
   "cell_type": "markdown",
   "id": "65dd6739",
   "metadata": {},
   "source": [
    "1 Ex"
   ]
  },
  {
   "cell_type": "code",
   "execution_count": 4,
   "id": "1becdce2",
   "metadata": {},
   "outputs": [
    {
     "name": "stdout",
     "output_type": "stream",
     "text": [
      "[10, 25, 30, -5]\n"
     ]
    }
   ],
   "source": [
    "my_list = [10, 25, 17, 9, 30, -5]\n",
    "# Returns the elements which are multiples of 5\n",
    "updated_list = list(filter(lambda n : n%5 == 0 , my_list))\n",
    "print(updated_list)"
   ]
  },
  {
   "cell_type": "markdown",
   "id": "954353dd",
   "metadata": {},
   "source": [
    "2 Ex"
   ]
  },
  {
   "cell_type": "code",
   "execution_count": 13,
   "id": "0fe7beb4",
   "metadata": {},
   "outputs": [
    {
     "name": "stdout",
     "output_type": "stream",
     "text": [
      "[10, 25, 30, -5]\n"
     ]
    }
   ],
   "source": [
    "def multipleof5(n):\n",
    "    if( n%5 == 0):\n",
    "        return n\n",
    "mylist = [10, 25, 17, 9, 30, -5]\n",
    "updatedlist = list(filter(multipleof5, mylist))\n",
    "print(updatedlist)"
   ]
  },
  {
   "cell_type": "code",
   "execution_count": null,
   "id": "cd8646fb",
   "metadata": {},
   "outputs": [],
   "source": []
  }
 ],
 "metadata": {
  "kernelspec": {
   "display_name": "Python 3 (ipykernel)",
   "language": "python",
   "name": "python3"
  },
  "language_info": {
   "codemirror_mode": {
    "name": "ipython",
    "version": 3
   },
   "file_extension": ".py",
   "mimetype": "text/x-python",
   "name": "python",
   "nbconvert_exporter": "python",
   "pygments_lexer": "ipython3",
   "version": "3.9.12"
  }
 },
 "nbformat": 4,
 "nbformat_minor": 5
}
