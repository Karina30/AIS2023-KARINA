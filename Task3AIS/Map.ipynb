{
 "cells": [
  {
   "cell_type": "markdown",
   "id": "1406f863",
   "metadata": {},
   "source": [
    "# MAP"
   ]
  },
  {
   "cell_type": "markdown",
   "id": "6cecf6fb",
   "metadata": {},
   "source": [
    "1 Ex"
   ]
  },
  {
   "cell_type": "code",
   "execution_count": 7,
   "id": "3ba6e45c",
   "metadata": {},
   "outputs": [
    {
     "name": "stdout",
     "output_type": "stream",
     "text": [
      "[4, 9, 16, 25, 36, 49, 64, 81]\n"
     ]
    }
   ],
   "source": [
    "def square(n):\n",
    "    return n*n\n",
    "my_list = [2,3,4,5,6,7,8,9]\n",
    "updated_list = map(square, my_list)\n",
    "# print(updated_list)\n",
    "print(list(updated_list))"
   ]
  },
  {
   "cell_type": "markdown",
   "id": "4030d4ea",
   "metadata": {},
   "source": [
    "2 Ex"
   ]
  },
  {
   "cell_type": "code",
   "execution_count": 6,
   "id": "6d0e09d5",
   "metadata": {},
   "outputs": [
    {
     "name": "stdout",
     "output_type": "stream",
     "text": [
      "<map object at 0x000001DA9A65D790>\n",
      "[4, 9, 16, 25, 36, 49, 64]\n"
     ]
    }
   ],
   "source": [
    "my_list = (2,3,4,5,6,7,8)\n",
    "updated_list = map(lambda x: x*x, my_list)\n",
    "print(updated_list)\n",
    "print(list(updated_list))"
   ]
  },
  {
   "cell_type": "markdown",
   "id": "842867b8",
   "metadata": {},
   "source": [
    "3 Ex"
   ]
  },
  {
   "cell_type": "code",
   "execution_count": 20,
   "id": "aa78beeb",
   "metadata": {},
   "outputs": [
    {
     "name": "stdout",
     "output_type": "stream",
     "text": [
      "[6, 11, 16, 21, 26, 31]\n"
     ]
    }
   ],
   "source": [
    "my_list1 = [2,3,4,5,6,7,8]\n",
    "my_list2 = [4,8,12,16,20,24]\n",
    "\n",
    "updated_list = map(MyMapFunc, my_list1, my_list2)\n",
    "print(list(updated_list))"
   ]
  },
  {
   "cell_type": "code",
   "execution_count": null,
   "id": "8cd42554",
   "metadata": {},
   "outputs": [],
   "source": []
  }
 ],
 "metadata": {
  "kernelspec": {
   "display_name": "Python 3 (ipykernel)",
   "language": "python",
   "name": "python3"
  },
  "language_info": {
   "codemirror_mode": {
    "name": "ipython",
    "version": 3
   },
   "file_extension": ".py",
   "mimetype": "text/x-python",
   "name": "python",
   "nbconvert_exporter": "python",
   "pygments_lexer": "ipython3",
   "version": "3.9.12"
  }
 },
 "nbformat": 4,
 "nbformat_minor": 5
}
