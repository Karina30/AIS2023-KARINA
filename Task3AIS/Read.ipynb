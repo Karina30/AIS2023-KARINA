{
 "cells": [
  {
   "cell_type": "markdown",
   "id": "14a00b30",
   "metadata": {},
   "source": [
    "#  Read file(Method 1)"
   ]
  },
  {
   "cell_type": "code",
   "execution_count": 7,
   "id": "a86dcd0b",
   "metadata": {},
   "outputs": [],
   "source": [
    "path = r\"C:\\Users\\Karina\\Desktop\""
   ]
  },
  {
   "cell_type": "code",
   "execution_count": 8,
   "id": "3a137748",
   "metadata": {},
   "outputs": [
    {
     "name": "stdout",
     "output_type": "stream",
     "text": [
      "Enter a file name:Test\n"
     ]
    }
   ],
   "source": [
    "file_name = input(\"Enter a file name:\")"
   ]
  },
  {
   "cell_type": "code",
   "execution_count": 9,
   "id": "70b21a77",
   "metadata": {},
   "outputs": [],
   "source": [
    "path = path + \"//\" +file_name + \".txt\""
   ]
  },
  {
   "cell_type": "code",
   "execution_count": 10,
   "id": "37cd7aee",
   "metadata": {},
   "outputs": [],
   "source": [
    "file = open(path)  #open a file"
   ]
  },
  {
   "cell_type": "code",
   "execution_count": 11,
   "id": "d1ccd0a8",
   "metadata": {},
   "outputs": [],
   "source": [
    "file_data = file.read()  #read a file"
   ]
  },
  {
   "cell_type": "code",
   "execution_count": 12,
   "id": "a4a60d5e",
   "metadata": {},
   "outputs": [
    {
     "name": "stdout",
     "output_type": "stream",
     "text": [
      "Welcome\n",
      "Python AIS\n",
      "\n"
     ]
    }
   ],
   "source": [
    "print(file_data)"
   ]
  },
  {
   "cell_type": "markdown",
   "id": "274e75cc",
   "metadata": {},
   "source": [
    "# Read file(Method 2)"
   ]
  },
  {
   "cell_type": "code",
   "execution_count": null,
   "id": "fe435d94",
   "metadata": {},
   "outputs": [],
   "source": [
    "path = r\"C:\\Users\\Karina\\Desktop\\Test.txt\""
   ]
  },
  {
   "cell_type": "code",
   "execution_count": null,
   "id": "21813d4c",
   "metadata": {},
   "outputs": [],
   "source": [
    "file = open(path)"
   ]
  },
  {
   "cell_type": "code",
   "execution_count": null,
   "id": "f2906148",
   "metadata": {},
   "outputs": [],
   "source": [
    "file_data = file.read()"
   ]
  },
  {
   "cell_type": "code",
   "execution_count": null,
   "id": "e4f97af9",
   "metadata": {},
   "outputs": [],
   "source": [
    "print(file_data)"
   ]
  },
  {
   "cell_type": "code",
   "execution_count": null,
   "id": "1e6d726a",
   "metadata": {},
   "outputs": [],
   "source": []
  }
 ],
 "metadata": {
  "kernelspec": {
   "display_name": "Python 3 (ipykernel)",
   "language": "python",
   "name": "python3"
  },
  "language_info": {
   "codemirror_mode": {
    "name": "ipython",
    "version": 3
   },
   "file_extension": ".py",
   "mimetype": "text/x-python",
   "name": "python",
   "nbconvert_exporter": "python",
   "pygments_lexer": "ipython3",
   "version": "3.9.12"
  }
 },
 "nbformat": 4,
 "nbformat_minor": 5
}
