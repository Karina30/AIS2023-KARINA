{
 "cells": [
  {
   "cell_type": "markdown",
   "id": "c0fea66a",
   "metadata": {},
   "source": [
    "# User Defined Functions"
   ]
  },
  {
   "cell_type": "markdown",
   "id": "93714bd9",
   "metadata": {},
   "source": [
    "1 Ex"
   ]
  },
  {
   "cell_type": "code",
   "execution_count": 11,
   "id": "7a28f4ea",
   "metadata": {},
   "outputs": [
    {
     "name": "stdout",
     "output_type": "stream",
     "text": [
      "Karina\n"
     ]
    }
   ],
   "source": [
    "def fun():\n",
    "    print(\"Karina\")\n",
    "fun()"
   ]
  },
  {
   "cell_type": "markdown",
   "id": "3e2a855a",
   "metadata": {},
   "source": [
    "2 Ex"
   ]
  },
  {
   "cell_type": "code",
   "execution_count": 13,
   "id": "1d7f0c43",
   "metadata": {},
   "outputs": [
    {
     "name": "stdout",
     "output_type": "stream",
     "text": [
      "Given number is even!\n"
     ]
    }
   ],
   "source": [
    "def evenodd(n):\n",
    "    if(n%2==0):\n",
    "        print(\"Given number is even!\")\n",
    "    else:\n",
    "        print(\"Given number is odd!\")\n",
    "evenodd(4)"
   ]
  },
  {
   "cell_type": "markdown",
   "id": "80a51109",
   "metadata": {},
   "source": [
    "3 Ex"
   ]
  },
  {
   "cell_type": "code",
   "execution_count": null,
   "id": "5c1c7460",
   "metadata": {},
   "outputs": [],
   "source": []
  }
 ],
 "metadata": {
  "kernelspec": {
   "display_name": "Python 3 (ipykernel)",
   "language": "python",
   "name": "python3"
  },
  "language_info": {
   "codemirror_mode": {
    "name": "ipython",
    "version": 3
   },
   "file_extension": ".py",
   "mimetype": "text/x-python",
   "name": "python",
   "nbconvert_exporter": "python",
   "pygments_lexer": "ipython3",
   "version": "3.9.12"
  }
 },
 "nbformat": 4,
 "nbformat_minor": 5
}
