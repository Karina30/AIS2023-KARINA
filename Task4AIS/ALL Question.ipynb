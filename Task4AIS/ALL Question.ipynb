{
 "cells": [
  {
   "cell_type": "markdown",
   "id": "3147ab85",
   "metadata": {},
   "source": [
    "1] Given a list, write a Python function to swap first and last element of the list."
   ]
  },
  {
   "cell_type": "code",
   "execution_count": 1,
   "id": "750c2605",
   "metadata": {},
   "outputs": [
    {
     "name": "stdout",
     "output_type": "stream",
     "text": [
      "The list is :\n",
      "[30, 2, 99, 42, 10, 87, 57]\n",
      "The function to swap the first and last elements is swapped :\n",
      "[57, 2, 99, 42, 10, 87, 30]\n"
     ]
    }
   ],
   "source": [
    "def list_swapping(my_list):\n",
    "   size_of_list = len(my_list)\n",
    "\n",
    "   temp = my_list[0]\n",
    "   my_list[0] = my_list[size_of_list - 1]\n",
    "   my_list[size_of_list - 1] = temp\n",
    "\n",
    "   return my_list\n",
    "\n",
    "my_list = [30, 2, 99, 42, 10, 87, 57]\n",
    "print(\"The list is :\")\n",
    "print(my_list)\n",
    "print(\"The function to swap the first and last elements is swapped :\")\n",
    "print(list_swapping(my_list))"
   ]
  },
  {
   "cell_type": "markdown",
   "id": "b2416abf",
   "metadata": {},
   "source": [
    "2] Write funtion count lenght of string"
   ]
  },
  {
   "cell_type": "code",
   "execution_count": 2,
   "id": "42d6372a",
   "metadata": {},
   "outputs": [
    {
     "name": "stdout",
     "output_type": "stream",
     "text": [
      "Length of the String is: 14\n"
     ]
    }
   ],
   "source": [
    "str =\"Karina Mujawar\"  #space is also calculated.\n",
    "print(\"Length of the String is:\", len(str))"
   ]
  },
  {
   "cell_type": "markdown",
   "id": "6be86663",
   "metadata": {},
   "source": [
    "3] Write a Python program to get the sum of a only non-negative integer. (Ex. [1,4,-5,-20,10] ans is 15)"
   ]
  },
  {
   "cell_type": "code",
   "execution_count": 9,
   "id": "ca19cad1",
   "metadata": {},
   "outputs": [
    {
     "name": "stdout",
     "output_type": "stream",
     "text": [
      "13\n"
     ]
    }
   ],
   "source": [
    "def sumNonNegativeInts(listInt):\n",
    "    m = 0\n",
    "    for x in listInt:\n",
    "        if x > 0:\n",
    "            m+=x\n",
    "    return(int(m))\n",
    "\n",
    "a = [1, 3, -4, 5, -2, -3, 4, -1]\n",
    "print(sumNonNegativeInts(a))"
   ]
  },
  {
   "cell_type": "markdown",
   "id": "bf5c16eb",
   "metadata": {},
   "source": [
    "4] Write python function of factorial.  [Ex. fact(3) ans 6 (3*2*1) ]"
   ]
  },
  {
   "cell_type": "code",
   "execution_count": 12,
   "id": "dda1471c",
   "metadata": {},
   "outputs": [
    {
     "name": "stdout",
     "output_type": "stream",
     "text": [
      "Factorial of 5 is 120\n"
     ]
    }
   ],
   "source": [
    "num = 5;\n",
    "print(\"Factorial of\",num,\"is\",factorial(num))"
   ]
  }
 ],
 "metadata": {
  "kernelspec": {
   "display_name": "Python 3 (ipykernel)",
   "language": "python",
   "name": "python3"
  },
  "language_info": {
   "codemirror_mode": {
    "name": "ipython",
    "version": 3
   },
   "file_extension": ".py",
   "mimetype": "text/x-python",
   "name": "python",
   "nbconvert_exporter": "python",
   "pygments_lexer": "ipython3",
   "version": "3.9.12"
  }
 },
 "nbformat": 4,
 "nbformat_minor": 5
}
