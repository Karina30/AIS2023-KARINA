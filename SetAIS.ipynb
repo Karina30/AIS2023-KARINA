{
 "cells": [
  {
   "cell_type": "markdown",
   "id": "ef1bee5d",
   "metadata": {},
   "source": [
    "# SET"
   ]
  },
  {
   "cell_type": "markdown",
   "id": "d7dff77b",
   "metadata": {},
   "source": [
    "# 1] ADD()"
   ]
  },
  {
   "cell_type": "code",
   "execution_count": 1,
   "id": "87f3655f",
   "metadata": {},
   "outputs": [
    {
     "name": "stdout",
     "output_type": "stream",
     "text": [
      "{'n', 'k', 'a', 'i', 'r'}\n"
     ]
    }
   ],
   "source": [
    "set = {'k','a','r','n','a'}\n",
    "set.add('i')\n",
    "print(set)"
   ]
  },
  {
   "cell_type": "code",
   "execution_count": 2,
   "id": "b0ec8492",
   "metadata": {},
   "outputs": [
    {
     "name": "stdout",
     "output_type": "stream",
     "text": [
      "{0, 2, 3, 4, 9, 62, 5663}\n"
     ]
    }
   ],
   "source": [
    "set1 = {3,4,62,5663,2,9}\n",
    "set1.add(0)\n",
    "print(set1)"
   ]
  },
  {
   "cell_type": "markdown",
   "id": "84ee877c",
   "metadata": {},
   "source": [
    "# 2] CLEAR()"
   ]
  },
  {
   "cell_type": "code",
   "execution_count": 4,
   "id": "b1757f6a",
   "metadata": {},
   "outputs": [
    {
     "name": "stdout",
     "output_type": "stream",
     "text": [
      "set()\n"
     ]
    }
   ],
   "source": [
    "set = {'k','a','r','n','a'}\n",
    "set.clear()\n",
    "print(set)"
   ]
  },
  {
   "cell_type": "markdown",
   "id": "03a706c4",
   "metadata": {},
   "source": [
    "# 3] COPY()"
   ]
  },
  {
   "cell_type": "code",
   "execution_count": 5,
   "id": "66179fda",
   "metadata": {},
   "outputs": [
    {
     "name": "stdout",
     "output_type": "stream",
     "text": [
      "{'n', 'a', 'k', 'r'}\n"
     ]
    }
   ],
   "source": [
    "set = {'k','a','r','n','a'}\n",
    "set1 = set.copy()\n",
    "print(set1)"
   ]
  },
  {
   "cell_type": "markdown",
   "id": "b066d1ef",
   "metadata": {},
   "source": [
    "# 4] DIFFERENCE()"
   ]
  },
  {
   "cell_type": "code",
   "execution_count": 6,
   "id": "ca44a55e",
   "metadata": {},
   "outputs": [
    {
     "name": "stdout",
     "output_type": "stream",
     "text": [
      "{10, 20}\n",
      "{100, 60}\n"
     ]
    }
   ],
   "source": [
    "A = {10,20,30,40,80}\n",
    "B = {100,30,80,40,60}\n",
    "print(A.difference(B))\n",
    "print(B.difference(A))"
   ]
  },
  {
   "cell_type": "markdown",
   "id": "84baefc6",
   "metadata": {},
   "source": [
    "# 5] DIFFERENCE_UPDATE()"
   ]
  },
  {
   "cell_type": "code",
   "execution_count": 10,
   "id": "2ed74ffb",
   "metadata": {},
   "outputs": [
    {
     "name": "stdout",
     "output_type": "stream",
     "text": [
      "{20, 10}\n",
      "{80, 100, 40, 60, 30}\n"
     ]
    }
   ],
   "source": [
    "A = {10,20,30,40,80}\n",
    "B = {100,30,80,40,60}\n",
    "A.difference_update(B)\n",
    "B.difference_update(A)\n",
    "print(A)\n",
    "print(B)"
   ]
  },
  {
   "cell_type": "markdown",
   "id": "76e2e6d5",
   "metadata": {},
   "source": [
    "# 6] INTERSECTION()"
   ]
  },
  {
   "cell_type": "code",
   "execution_count": 13,
   "id": "3575aea5",
   "metadata": {},
   "outputs": [
    {
     "name": "stdout",
     "output_type": "stream",
     "text": [
      "{4, 5}\n"
     ]
    }
   ],
   "source": [
    "set1 = {1,2,3,4,5}\n",
    "set2 = {4,5,6,7,8}\n",
    "print(set1.intersection(set2))"
   ]
  },
  {
   "cell_type": "code",
   "execution_count": 14,
   "id": "76818034",
   "metadata": {},
   "outputs": [
    {
     "name": "stdout",
     "output_type": "stream",
     "text": [
      "set1 intersection set2 intersection set3: {4, 6}\n"
     ]
    }
   ],
   "source": [
    "set1 = {2,4,5,6}\n",
    "set2 = {4,6,7,8}\n",
    "set3 = {4,6,8}\n",
    "print(\"set1 intersection set2 intersection set3:\", set1.intersection(set2,set3))\n"
   ]
  },
  {
   "cell_type": "markdown",
   "id": "56d48331",
   "metadata": {},
   "source": [
    "# 7] INTERSECTION_UPDATE()"
   ]
  },
  {
   "cell_type": "code",
   "execution_count": 18,
   "id": "cea350d9",
   "metadata": {},
   "outputs": [
    {
     "name": "stdout",
     "output_type": "stream",
     "text": [
      "{4, 5}\n",
      "{4, 5, 6, 7, 8}\n"
     ]
    }
   ],
   "source": [
    "set1 = {1,2,3,4,5}\n",
    "set2 = {4,5,6,7,8}\n",
    "set1.intersection_update(set2)\n",
    "print(set1)\n",
    "print(set2)"
   ]
  },
  {
   "cell_type": "markdown",
   "id": "0bfab034",
   "metadata": {},
   "source": [
    "# 8] ISDISJOINT()"
   ]
  },
  {
   "cell_type": "code",
   "execution_count": 19,
   "id": "951ccd30",
   "metadata": {},
   "outputs": [
    {
     "name": "stdout",
     "output_type": "stream",
     "text": [
      "True\n"
     ]
    }
   ],
   "source": [
    "set1 = {1,2,3}\n",
    "set2 = {4,5,6}\n",
    "print(set1.isdisjoint(set2))"
   ]
  },
  {
   "cell_type": "code",
   "execution_count": 20,
   "id": "8709e9cd",
   "metadata": {},
   "outputs": [
    {
     "name": "stdout",
     "output_type": "stream",
     "text": [
      "False\n"
     ]
    }
   ],
   "source": [
    "set1 = {1,2,3,4}\n",
    "set2 = {4,5,6}\n",
    "print(set1.isdisjoint(set2))"
   ]
  },
  {
   "cell_type": "markdown",
   "id": "99d29a49",
   "metadata": {},
   "source": [
    "# 9] ISSUPERSET()"
   ]
  },
  {
   "cell_type": "code",
   "execution_count": 23,
   "id": "72dad41d",
   "metadata": {},
   "outputs": [
    {
     "name": "stdout",
     "output_type": "stream",
     "text": [
      "False\n",
      "True\n"
     ]
    }
   ],
   "source": [
    "A = {1,4,3,5}\n",
    "B = {6,0,4,2,5,7,1,8,4,3}\n",
    "print(A.issuperset(B))\n",
    "print(B.issuperset(A))"
   ]
  },
  {
   "cell_type": "markdown",
   "id": "bd5e7f08",
   "metadata": {},
   "source": [
    "# 10] POP"
   ]
  },
  {
   "cell_type": "code",
   "execution_count": 26,
   "id": "7e355afd",
   "metadata": {},
   "outputs": [
    {
     "name": "stdout",
     "output_type": "stream",
     "text": [
      "{9, 1}\n"
     ]
    }
   ],
   "source": [
    "set4 = {9,1,0}\n",
    "set4.pop()\n",
    "print(set4)"
   ]
  },
  {
   "cell_type": "code",
   "execution_count": 29,
   "id": "17b6c30f",
   "metadata": {},
   "outputs": [
    {
     "name": "stdout",
     "output_type": "stream",
     "text": [
      "After 3 elements popped, s1: {4}\n"
     ]
    }
   ],
   "source": [
    "s1 = {1,2,3,4}\n",
    "s1.pop()\n",
    "s1.pop()\n",
    "s1.pop()\n",
    "print(\"After 3 elements popped, s1:\", s1)"
   ]
  },
  {
   "cell_type": "markdown",
   "id": "8c932ecc",
   "metadata": {},
   "source": [
    "# 11] SYMMETRIC_DIFFERENCE()"
   ]
  },
  {
   "cell_type": "code",
   "execution_count": 30,
   "id": "c4384bab",
   "metadata": {},
   "outputs": [
    {
     "data": {
      "text/plain": [
       "{1, 2, 3, 6, 7, 8}"
      ]
     },
     "execution_count": 30,
     "metadata": {},
     "output_type": "execute_result"
    }
   ],
   "source": [
    "SET1 = {1,2,3,4,5}\n",
    "SET2 = {4,5,6,7,8}\n",
    "SET1.symmetric_difference(SET2)"
   ]
  },
  {
   "cell_type": "markdown",
   "id": "f65fca62",
   "metadata": {},
   "source": [
    "# 12] SYMMETRIC_DIFFERENCE_UPDATE()\n"
   ]
  },
  {
   "cell_type": "code",
   "execution_count": 33,
   "id": "9d9113e8",
   "metadata": {},
   "outputs": [
    {
     "name": "stdout",
     "output_type": "stream",
     "text": [
      "{1, 2, 3, 6, 7, 8}\n",
      "{4, 5, 6, 7, 8}\n"
     ]
    }
   ],
   "source": [
    "SET1 = {1,2,3,4,5}\n",
    "SET2 = {4,5,6,7,8}\n",
    "SET1.symmetric_difference_update(SET2)\n",
    "print(SET1)\n",
    "print(SET2)"
   ]
  },
  {
   "cell_type": "markdown",
   "id": "7850bf06",
   "metadata": {},
   "source": [
    "# 13] UNION()"
   ]
  },
  {
   "cell_type": "code",
   "execution_count": 34,
   "id": "f2cc03ec",
   "metadata": {},
   "outputs": [
    {
     "name": "stdout",
     "output_type": "stream",
     "text": [
      "A U B: {2, 4, 5, 6, 7, 8}\n"
     ]
    }
   ],
   "source": [
    "A = {2, 4, 5, 6}\n",
    "B = {4, 6, 7, 8}\n",
    "\n",
    "print(\"A U B:\", A.union(B))"
   ]
  },
  {
   "cell_type": "markdown",
   "id": "807f0c48",
   "metadata": {},
   "source": [
    "# 14] UPDATE"
   ]
  },
  {
   "cell_type": "code",
   "execution_count": 37,
   "id": "9daa695d",
   "metadata": {},
   "outputs": [
    {
     "name": "stdout",
     "output_type": "stream",
     "text": [
      "{2, 4, 5, 6, 7, 8}\n",
      "{2, 4, 5, 6, 7, 8}\n"
     ]
    }
   ],
   "source": [
    "A = {2, 4, 5, 6}\n",
    "B = {4, 6, 7, 8}\n",
    "A.update(B)\n",
    "B.update(A)\n",
    "print(A)\n",
    "print(B)"
   ]
  },
  {
   "cell_type": "code",
   "execution_count": null,
   "id": "42acb617",
   "metadata": {},
   "outputs": [],
   "source": []
  }
 ],
 "metadata": {
  "kernelspec": {
   "display_name": "Python 3 (ipykernel)",
   "language": "python",
   "name": "python3"
  },
  "language_info": {
   "codemirror_mode": {
    "name": "ipython",
    "version": 3
   },
   "file_extension": ".py",
   "mimetype": "text/x-python",
   "name": "python",
   "nbconvert_exporter": "python",
   "pygments_lexer": "ipython3",
   "version": "3.9.12"
  }
 },
 "nbformat": 4,
 "nbformat_minor": 5
}
